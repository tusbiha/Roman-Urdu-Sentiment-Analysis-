{
  "nbformat": 4,
  "nbformat_minor": 0,
  "metadata": {
    "colab": {
      "provenance": [],
      "authorship_tag": "ABX9TyNeRN8nRNSgZyW2HH8WOHE1"
    },
    "kernelspec": {
      "name": "python3",
      "display_name": "Python 3"
    },
    "language_info": {
      "name": "python"
    }
  },
  "cells": [
    {
      "cell_type": "code",
      "execution_count": 1,
      "metadata": {
        "id": "wa8vnUY9LTeO"
      },
      "outputs": [],
      "source": [
        "import pandas as pd\n",
        "import seaborn as sns\n",
        "from sklearn.naive_bayes import MultinomialNB\n",
        "from sklearn import metrics, preprocessing, svm\n",
        "from sklearn.model_selection import train_test_split\n",
        "from sklearn.pipeline import Pipeline\n",
        "from sklearn.feature_extraction.text import CountVectorizer, TfidfVectorizer\n",
        "from sklearn.metrics import classification_report\n",
        "import xgboost as xgb\n",
        "from sklearn.linear_model import PassiveAggressiveClassifier, LogisticRegression"
      ]
    },
    {
      "cell_type": "code",
      "source": [
        "# Load dataset\n",
        "df = pd.read_csv(\"/content/Roman Urdu DataSet.csv\", header=None)"
      ],
      "metadata": {
        "id": "pBnQMLZPL3HL"
      },
      "execution_count": 2,
      "outputs": []
    },
    {
      "cell_type": "code",
      "source": [
        "# Preprocess the dataset\n",
        "df.reset_index(inplace=True)  # Resetting the index to give column names\n",
        "df.columns = [\"A\", \"B\", \"C\", \"D\"]  # Giving some random column names\n",
        "del df[\"A\"]  # Deleting unnecessary columns\n",
        "del df[\"D\"]\n",
        "df.rename(columns={'B': 'text', 'C': 'sentiment'}, inplace=True)  # Renaming columns\n",
        "\n",
        "# Correcting misspelled sentiment labels\n",
        "df['sentiment'] = df['sentiment'].str.replace('Neative', 'Negative')\n",
        "\n",
        "# Removing Emojis\n",
        "df_new = df.astype(str).apply(lambda x: x.str.encode('ascii', 'ignore').str.decode('ascii'))\n",
        "\n",
        "# Removing 'Neutral' values\n",
        "df_removed = df_new[~df_new.sentiment.str.contains(\"Neutral\")]\n",
        "\n",
        "# Encode labels in column 'sentiment'\n",
        "label_encoder = preprocessing.LabelEncoder()\n",
        "df_removed['Pos'] = label_encoder.fit_transform(df_removed['sentiment'])"
      ],
      "metadata": {
        "colab": {
          "base_uri": "https://localhost:8080/"
        },
        "id": "ZPowQsUkMEWy",
        "outputId": "60ae774e-2f9b-4cc2-c76f-a8e986eb776a"
      },
      "execution_count": 3,
      "outputs": [
        {
          "output_type": "stream",
          "name": "stderr",
          "text": [
            "<ipython-input-3-07cb8c5ea47a>:19: SettingWithCopyWarning: \n",
            "A value is trying to be set on a copy of a slice from a DataFrame.\n",
            "Try using .loc[row_indexer,col_indexer] = value instead\n",
            "\n",
            "See the caveats in the documentation: https://pandas.pydata.org/pandas-docs/stable/user_guide/indexing.html#returning-a-view-versus-a-copy\n",
            "  df_removed['Pos'] = label_encoder.fit_transform(df_removed['sentiment'])\n"
          ]
        }
      ]
    },
    {
      "cell_type": "code",
      "source": [
        "# Split the dataset\n",
        "X_train, X_test, y_train, y_test = train_test_split(df_removed.text, df_removed.Pos, test_size=0.3, random_state=33)"
      ],
      "metadata": {
        "id": "ejaYNvkzMJ1y"
      },
      "execution_count": 4,
      "outputs": []
    },
    {
      "cell_type": "code",
      "source": [
        "# Define pipelines for different models\n",
        "\n",
        "# Naive Bayes with Count Vectorizer\n",
        "clf_NB = Pipeline([\n",
        "    ('vectorizer', CountVectorizer()),\n",
        "    ('nb', MultinomialNB())\n",
        "])\n",
        "clf_NB.fit(X_train, y_train)\n",
        "\n",
        "# Naive Bayes with TFIDF Vectorizer\n",
        "clf_NB_TFIDF = Pipeline([\n",
        "    ('vectorizer', TfidfVectorizer()),\n",
        "    ('nb', MultinomialNB())\n",
        "])\n",
        "clf_NB_TFIDF.fit(X_train, y_train)\n",
        "\n",
        "# XGBoost Pipeline\n",
        "clf_XGB = Pipeline([\n",
        "    ('vectorizer', CountVectorizer()),\n",
        "    ('xg', xgb.XGBClassifier(learning_rate=0.3, max_depth=5))\n",
        "])\n",
        "clf_XGB.fit(X_train, y_train)\n",
        "\n",
        "# Passive Aggressive Classifier\n",
        "clf_nbc = Pipeline([\n",
        "    ('vectorizer', CountVectorizer()),\n",
        "    ('pa_clf', PassiveAggressiveClassifier(max_iter=1000))\n",
        "])\n",
        "clf_nbc.fit(X_train, y_train)\n",
        "\n",
        "# SVM Pipeline\n",
        "clf_SVM = Pipeline([\n",
        "    ('vectorizer', CountVectorizer()),\n",
        "    ('svm', svm.SVC(kernel='linear'))\n",
        "])\n",
        "clf_SVM.fit(X_train, y_train)\n",
        "\n",
        "# Logistic Regression Pipeline\n",
        "clf_LR = Pipeline([\n",
        "    ('vectorizer', CountVectorizer()),\n",
        "    ('lr', LogisticRegression())\n",
        "])\n",
        "clf_LR.fit(X_train, y_train)\n"
      ],
      "metadata": {
        "id": "iRf7NqqjMTq8"
      },
      "execution_count": null,
      "outputs": []
    },
    {
      "cell_type": "code",
      "source": [
        "# Evaluating models' performance on test data\n",
        "def evaluate_models():\n",
        "    print(\"\\nModel Performance on Test Data\")\n",
        "\n",
        "    # Naive Bayes (Count Vectorizer)\n",
        "    y_pred_nb = clf_NB.predict(X_test)\n",
        "    print(\"\\nNaive Bayes (Count Vectorizer)\")\n",
        "    print(classification_report(y_test, y_pred_nb, target_names=label_encoder.classes_))\n",
        "\n",
        "    # Naive Bayes (TFIDF Vectorizer)\n",
        "    y_pred_nb_tfidf = clf_NB_TFIDF.predict(X_test)\n",
        "    print(\"\\nNaive Bayes (TFIDF Vectorizer)\")\n",
        "    print(classification_report(y_test, y_pred_nb_tfidf, target_names=label_encoder.classes_))\n",
        "\n",
        "    # XGBoost\n",
        "    y_pred_xgb = clf_XGB.predict(X_test)\n",
        "    print(\"\\nXGBoost\")\n",
        "    print(classification_report(y_test, y_pred_xgb, target_names=label_encoder.classes_))\n",
        "\n",
        "    # Passive Aggressive Classifier\n",
        "    y_pred_pac = clf_nbc.predict(X_test)\n",
        "    print(\"\\nPassive Aggressive Classifier\")\n",
        "    print(classification_report(y_test, y_pred_pac, target_names=label_encoder.classes_))\n",
        "\n",
        "    # SVM\n",
        "    y_pred_svm = clf_SVM.predict(X_test)\n",
        "    print(\"\\nSVM\")\n",
        "    print(classification_report(y_test, y_pred_svm, target_names=label_encoder.classes_))\n",
        "\n",
        "    # Logistic Regression\n",
        "    y_pred_lr = clf_LR.predict(X_test)\n",
        "    print(\"\\nLogistic Regression\")\n",
        "    print(classification_report(y_test, y_pred_lr, target_names=label_encoder.classes_))\n",
        "\n",
        "# Call function to evaluate models\n",
        "evaluate_models()"
      ],
      "metadata": {
        "colab": {
          "base_uri": "https://localhost:8080/"
        },
        "id": "0etG-XHvMnWF",
        "outputId": "3c2ee531-2b78-4791-c794-780b9e28033b"
      },
      "execution_count": 12,
      "outputs": [
        {
          "output_type": "stream",
          "name": "stdout",
          "text": [
            "\n",
            "Model Performance on Test Data\n",
            "\n",
            "Naive Bayes (Count Vectorizer)\n",
            "              precision    recall  f1-score   support\n",
            "\n",
            "    Negative       0.76      0.76      0.76      1536\n",
            "    Positive       0.80      0.80      0.80      1854\n",
            "\n",
            "    accuracy                           0.78      3390\n",
            "   macro avg       0.78      0.78      0.78      3390\n",
            "weighted avg       0.78      0.78      0.78      3390\n",
            "\n",
            "\n",
            "Naive Bayes (TFIDF Vectorizer)\n",
            "              precision    recall  f1-score   support\n",
            "\n",
            "    Negative       0.80      0.70      0.74      1536\n",
            "    Positive       0.77      0.86      0.81      1854\n",
            "\n",
            "    accuracy                           0.78      3390\n",
            "   macro avg       0.79      0.78      0.78      3390\n",
            "weighted avg       0.79      0.78      0.78      3390\n",
            "\n",
            "\n",
            "XGBoost\n",
            "              precision    recall  f1-score   support\n",
            "\n",
            "    Negative       0.69      0.77      0.73      1536\n",
            "    Positive       0.79      0.71      0.75      1854\n",
            "\n",
            "    accuracy                           0.74      3390\n",
            "   macro avg       0.74      0.74      0.74      3390\n",
            "weighted avg       0.75      0.74      0.74      3390\n",
            "\n",
            "\n",
            "Passive Aggressive Classifier\n",
            "              precision    recall  f1-score   support\n",
            "\n",
            "    Negative       0.73      0.69      0.71      1536\n",
            "    Positive       0.76      0.79      0.77      1854\n",
            "\n",
            "    accuracy                           0.74      3390\n",
            "   macro avg       0.74      0.74      0.74      3390\n",
            "weighted avg       0.74      0.74      0.74      3390\n",
            "\n",
            "\n",
            "SVM\n",
            "              precision    recall  f1-score   support\n",
            "\n",
            "    Negative       0.74      0.74      0.74      1536\n",
            "    Positive       0.78      0.79      0.79      1854\n",
            "\n",
            "    accuracy                           0.76      3390\n",
            "   macro avg       0.76      0.76      0.76      3390\n",
            "weighted avg       0.76      0.76      0.76      3390\n",
            "\n",
            "\n",
            "Logistic Regression\n",
            "              precision    recall  f1-score   support\n",
            "\n",
            "    Negative       0.75      0.76      0.76      1536\n",
            "    Positive       0.80      0.79      0.80      1854\n",
            "\n",
            "    accuracy                           0.78      3390\n",
            "   macro avg       0.78      0.78      0.78      3390\n",
            "weighted avg       0.78      0.78      0.78      3390\n",
            "\n"
          ]
        }
      ]
    },
    {
      "cell_type": "code",
      "source": [
        "# Predicting the user input\n",
        "def predict_user_input(text):\n",
        "    print(\"\\nPrediction for the given text:\", text)\n",
        "\n",
        "    pred_nb = clf_NB.predict([text])[0]\n",
        "    pred_nb_tfidf = clf_NB_TFIDF.predict([text])[0]\n",
        "    pred_xgb = clf_XGB.predict([text])[0]\n",
        "    pred_pac = clf_nbc.predict([text])[0]\n",
        "    pred_svm = clf_SVM.predict([text])[0]\n",
        "    pred_lr = clf_LR.predict([text])[0]\n",
        "\n",
        "    print(\"\\nNaive Bayes (Count Vectorizer):\", label_encoder.inverse_transform([pred_nb])[0])\n",
        "    print(\"Naive Bayes (TFIDF Vectorizer):\", label_encoder.inverse_transform([pred_nb_tfidf])[0])\n",
        "    print(\"XGBoost:\", label_encoder.inverse_transform([pred_xgb])[0])\n",
        "    print(\"Passive Aggressive Classifier:\", label_encoder.inverse_transform([pred_pac])[0])\n",
        "    print(\"SVM:\", label_encoder.inverse_transform([pred_svm])[0])\n",
        "    print(\"Logistic Regression:\", label_encoder.inverse_transform([pred_lr])[0])\n",
        "\n",
        "# Taking input from the user\n",
        "user_input = input(\"Enter a sentence for sentiment analysis: \")\n",
        "predict_user_input(user_input)"
      ],
      "metadata": {
        "colab": {
          "base_uri": "https://localhost:8080/"
        },
        "id": "0qYX7lv2M0xo",
        "outputId": "58b9985c-8deb-4d3b-84ba-c68b84c7785f"
      },
      "execution_count": 8,
      "outputs": [
        {
          "output_type": "stream",
          "name": "stdout",
          "text": [
            "Enter a sentence for sentiment analysis: boht bury insan ho tum\n",
            "\n",
            "Prediction for the given text: boht bury insan ho tum\n",
            "\n",
            "Naive Bayes (Count Vectorizer): Negative\n",
            "Naive Bayes (TFIDF Vectorizer): Negative\n",
            "XGBoost: Negative\n",
            "Passive Aggressive Classifier: Negative\n",
            "SVM: Negative\n",
            "Logistic Regression: Negative\n"
          ]
        }
      ]
    }
  ]
}